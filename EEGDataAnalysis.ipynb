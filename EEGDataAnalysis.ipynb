{
 "cells": [
  {
   "cell_type": "markdown",
   "metadata": {},
   "source": [
    "# Analysing data with Python and MNE\n",
    "\n",
    "Welcome to the practical session EEG data analysis! This practical session is part of the course Experimentation II at Leiden University. In this session we will study the EEG signals during an Eriksen Flankers Task. We will get acquainted with the typical preprocessing steps, the analysis of the data and the interpretation of the results.\n",
    "\n",
    "The data that we will be analysing was recorded at Leiden University, with the same equipment that we've used during the data acquisition practical.\n",
    "\n",
    "The data was acquired during an Eriksen flankers task. This is a conflict task that belongs to the same family of paradigms as the Stroop and Simon task. Participants are instructed to respond as fast as possible to the direction of the central stimulus in an array like this by pressing a response button with the corresponding index finger (in this case the right index finger).\n",
    "\n",
    "![title](flankers.jpg)\n",
    "\n",
    "Flanking stimuli around the target are irrelevant, but can prime the correct response (congruent), or the opposite response (incongruent). Immediately after stimulus presentation, the attentional spotlight (the area of stimulus information that is selected for further processing) has not yet been narrowed, so the dominant information derives from the flankers, which may point at the wrong response. As the spotlight is narrowed, the support for the correct response increases. In the ERP you are likely to see initial signs of motor preparation for the hand indicated by the flankers (LRP) and signs of error detection processes (ERN). In addition, the ERP will show large components such as the P300. Prior to the P300, there is a weak negative component that is sensitive to the presence of conflict in the decision processes (N200). We will see to what extent these waves can be identified and quantified. Some of these ERP peaks will be analysed in the following.\n",
    "\n",
    "\n",
    "\n",
    "\n",
    "### Importing\n",
    "Now it is time to start our python script. Before we can start loading the data, we need to have the proper tools in place. Obviously we need to import MNE. Next we import matplotlib, for data visualisation, pandas for data analysis, and numpy for working with data structures. If you don't like typing the same words over and over again, you can import libraries as a shorter name, for instance 'pandas' as 'pd'. This saves time later on, but it is optional. Let's ignore the matplotlib.use command."
   ]
  },
  {
   "cell_type": "code",
   "execution_count": 2,
   "outputs": [],
   "source": [
    "import mne\n",
    "import matplotlib\n",
    "import pandas as pd\n",
    "import numpy as np\n",
    "\n",
    "matplotlib.use('TkAgg')"
   ],
   "metadata": {
    "collapsed": false,
    "ExecuteTime": {
     "start_time": "2023-05-26T11:25:51.577302Z",
     "end_time": "2023-05-26T11:25:52.177295Z"
    }
   }
  },
  {
   "cell_type": "markdown",
   "metadata": {},
   "source": [
    "### Creating paths\n",
    "Next we will setup the folders, so that python knows where to look for what. Type in the path corresponding to the location where you stored the data. To keep things need, we stored the eeg data file and the behavioural data file in two separate foldes.\n"
   ]
  },
  {
   "cell_type": "code",
   "execution_count": 16,
   "outputs": [],
   "source": [
    "#Get all the directories\n",
    "dataPath = '/Users/sebouithol/surfdrive/Leiden/Teaching/Experimentation II/Data Analysis Practical/dataEEG/'\n",
    "dataPathBehav = '/Users/sebouithol/surfdrive/Leiden/Teaching/Experimentation II/Data Analysis Practical/dataBehavioural/'\n"
   ],
   "metadata": {
    "collapsed": false,
    "ExecuteTime": {
     "start_time": "2023-05-26T11:35:57.236623Z",
     "end_time": "2023-05-26T11:35:57.240475Z"
    }
   }
  },
  {
   "cell_type": "markdown",
   "source": [
    "\n",
    "\n",
    "### Loading the data\n",
    "Now we want to create an array with the content of the eeg data file. We do this using the command read_raw_bdf. This command is part of the MNE toolbox, and within MNE of the io (input-output)library, so the full command will read as: nameArray = mne.io.read_raw()\n",
    "\n",
    "We need to specify the filename within the brackets. For this we also make use of the path that we created above."
   ],
   "metadata": {
    "collapsed": false
   }
  },
  {
   "cell_type": "code",
   "execution_count": 4,
   "outputs": [
    {
     "name": "stdout",
     "output_type": "stream",
     "text": [
      "Extracting EDF parameters from /Users/sebouithol/surfdrive/Leiden/Teaching/Experimentation II/Data Analysis Practical/dataEEG/Flanker_EEG_52_12052022.bdf...\n",
      "BDF file detected\n",
      "Setting channel info structure...\n",
      "Creating raw.info structure...\n",
      "Reading 0 ... 1778175  =      0.000 ...  3472.998 secs...\n"
     ]
    }
   ],
   "source": [
    "filename = \"Flanker_EEG_52_12052022.bdf\"\n",
    "fullFileName = (dataPath + filename)\n",
    "\n",
    "raw_eeg = mne.io.read_raw_bdf(fullFileName, preload=True)"
   ],
   "metadata": {
    "collapsed": false,
    "ExecuteTime": {
     "start_time": "2023-05-26T11:26:03.519446Z",
     "end_time": "2023-05-26T11:26:05.407934Z"
    }
   }
  },
  {
   "cell_type": "code",
   "execution_count": null,
   "outputs": [],
   "source": [],
   "metadata": {
    "collapsed": false
   }
  },
  {
   "cell_type": "markdown",
   "source": [
    "### Downsampling\n",
    "Inspect the output of the code cell above. This will give you information on the data. For instance, you can see that 72 electrodes have been used. That the recording took almost an hour, and that the analogue signal was sampled with a 512Hz frequency. For our purpose this is a bit too high, which will make files unnecessarily big, and computations slow. So we will downsample the data. This will be done using the resample command. We will have to specify the sfreq for this. You can add this in the code below. Use a value of 250."
   ],
   "metadata": {
    "collapsed": false
   }
  },
  {
   "cell_type": "code",
   "execution_count": 5,
   "outputs": [
    {
     "name": "stdout",
     "output_type": "stream",
     "text": [
      "Trigger channel has a non-zero initial value of 65536 (consider using initial_event=True to detect this event)\n",
      "2823 events found\n",
      "Event IDs: [    4     8    16    33    34    35    36 65536 65789]\n",
      "Trigger channel has a non-zero initial value of 65536 (consider using initial_event=True to detect this event)\n",
      "2823 events found\n",
      "Event IDs: [    4     8    16    33    34    35    36 65536 65789]\n"
     ]
    }
   ],
   "source": [
    "raw_eeg = raw_eeg.resample(sfreq=250)"
   ],
   "metadata": {
    "collapsed": false,
    "ExecuteTime": {
     "start_time": "2023-05-26T11:26:20.932540Z",
     "end_time": "2023-05-26T11:26:26.302159Z"
    }
   }
  },
  {
   "cell_type": "markdown",
   "source": [
    "If you want to check whether it was successful you can use the following command."
   ],
   "metadata": {
    "collapsed": false
   }
  },
  {
   "cell_type": "code",
   "execution_count": 6,
   "outputs": [
    {
     "data": {
      "text/plain": "<Info | 7 non-empty values\n bads: []\n ch_names: Fp1, AF7, AF3, F1, F3, F5, F7, FT7, FC5, FC3, FC1, C1, C3, C5, ...\n chs: 72 EEG, 1 Stimulus\n custom_ref_applied: False\n highpass: 0.0 Hz\n lowpass: 104.0 Hz\n meas_date: 2022-05-12 14:32:28 UTC\n nchan: 73\n projs: []\n sfreq: 250.0 Hz\n>",
      "text/html": "<table class=\"table table-hover table-striped table-sm table-responsive small\">\n    <tr>\n        <th>Measurement date</th>\n        \n        <td>May 12, 2022  14:32:28 GMT</td>\n        \n    </tr>\n    <tr>\n        <th>Experimenter</th>\n        \n        <td>Unknown</td>\n        \n    </tr>\n        <th>Participant</th>\n        \n        <td>Unknown</td>\n        \n    </tr>\n    <tr>\n        <th>Digitized points</th>\n        \n        <td>Not available</td>\n        \n    </tr>\n    <tr>\n        <th>Good channels</th>\n        <td>72 EEG, 1 Stimulus</td>\n    </tr>\n    <tr>\n        <th>Bad channels</th>\n        <td>None</td>\n    </tr>\n    <tr>\n        <th>EOG channels</th>\n        <td>Not available</td>\n    </tr>\n    <tr>\n        <th>ECG channels</th>\n        <td>Not available</td>\n    \n    <tr>\n        <th>Sampling frequency</th>\n        <td>250.00 Hz</td>\n    </tr>\n    \n    \n    <tr>\n        <th>Highpass</th>\n        <td>0.00 Hz</td>\n    </tr>\n    \n    \n    <tr>\n        <th>Lowpass</th>\n        <td>104.00 Hz</td>\n    </tr>\n    \n    \n</table>"
     },
     "execution_count": 6,
     "metadata": {},
     "output_type": "execute_result"
    }
   ],
   "source": [
    "raw_eeg.info"
   ],
   "metadata": {
    "collapsed": false,
    "ExecuteTime": {
     "start_time": "2023-05-26T11:26:31.230330Z",
     "end_time": "2023-05-26T11:26:31.275616Z"
    }
   }
  },
  {
   "cell_type": "markdown",
   "source": [
    "### Rereferencing\n",
    "You may remember from the lecture that the potential that is recorded at each electrode is not an absolute value, but always a difference between that electrode and another electrode. You may also remember that during the acquisition we have placed two electrodes on the mastoids. We will set the average of these two channels as explicit reference for all the other electrodes.\n"
   ],
   "metadata": {
    "collapsed": false
   }
  },
  {
   "cell_type": "code",
   "execution_count": 8,
   "outputs": [
    {
     "name": "stdout",
     "output_type": "stream",
     "text": [
      "EEG channel type selected for re-referencing\n",
      "Applying a custom ('EEG',) reference.\n"
     ]
    },
    {
     "data": {
      "text/plain": "<RawEDF | Flanker_EEG_52_12052022.bdf, 73 x 868250 (3473.0 s), ~483.6 MB, data loaded>",
      "text/html": "<table class=\"table table-hover table-striped table-sm table-responsive small\">\n    <tr>\n        <th>Measurement date</th>\n        \n        <td>May 12, 2022  14:32:28 GMT</td>\n        \n    </tr>\n    <tr>\n        <th>Experimenter</th>\n        \n        <td>Unknown</td>\n        \n    </tr>\n        <th>Participant</th>\n        \n        <td>Unknown</td>\n        \n    </tr>\n    <tr>\n        <th>Digitized points</th>\n        \n        <td>Not available</td>\n        \n    </tr>\n    <tr>\n        <th>Good channels</th>\n        <td>72 EEG, 1 Stimulus</td>\n    </tr>\n    <tr>\n        <th>Bad channels</th>\n        <td>None</td>\n    </tr>\n    <tr>\n        <th>EOG channels</th>\n        <td>Not available</td>\n    </tr>\n    <tr>\n        <th>ECG channels</th>\n        <td>Not available</td>\n    \n    <tr>\n        <th>Sampling frequency</th>\n        <td>250.00 Hz</td>\n    </tr>\n    \n    \n    <tr>\n        <th>Highpass</th>\n        <td>0.00 Hz</td>\n    </tr>\n    \n    \n    <tr>\n        <th>Lowpass</th>\n        <td>104.00 Hz</td>\n    </tr>\n    \n    \n    \n    <tr>\n        <th>Filenames</th>\n        <td>Flanker_EEG_52_12052022.bdf</td>\n    </tr>\n    \n    <tr>\n        <th>Duration</th>\n        <td>00:57:53 (HH:MM:SS)</td>\n    </tr>\n</table>"
     },
     "execution_count": 8,
     "metadata": {},
     "output_type": "execute_result"
    }
   ],
   "source": [
    "raw_eeg.set_eeg_reference(ref_channels=['EXG5', 'EXG6'])  # Take average of mastoids as reference\n"
   ],
   "metadata": {
    "collapsed": false,
    "ExecuteTime": {
     "start_time": "2023-05-26T11:26:52.700134Z",
     "end_time": "2023-05-26T11:26:53.119314Z"
    }
   }
  },
  {
   "cell_type": "markdown",
   "source": [
    "### Filtering\n"
   ],
   "metadata": {
    "collapsed": false
   }
  },
  {
   "cell_type": "code",
   "execution_count": 11,
   "outputs": [
    {
     "name": "stdout",
     "output_type": "stream",
     "text": [
      "Filtering raw data in 1 contiguous segment\n",
      "Setting up band-pass filter from 1 - 30 Hz\n",
      "\n",
      "FIR filter parameters\n",
      "---------------------\n",
      "Designing a one-pass, zero-phase, non-causal bandpass filter:\n",
      "- Windowed time-domain design (firwin) method\n",
      "- Hamming window with 0.0194 passband ripple and 53 dB stopband attenuation\n",
      "- Lower passband edge: 1.00\n",
      "- Lower transition bandwidth: 1.00 Hz (-6 dB cutoff frequency: 0.50 Hz)\n",
      "- Upper passband edge: 30.00 Hz\n",
      "- Upper transition bandwidth: 7.50 Hz (-6 dB cutoff frequency: 33.75 Hz)\n",
      "- Filter length: 825 samples (3.300 sec)\n",
      "\n"
     ]
    }
   ],
   "source": [
    "\n",
    "low_cut = 1\n",
    "high_cut = 30\n",
    "filtered_eeg = raw_eeg.copy().filter(low_cut, high_cut, fir_design='firwin')  # Filter between 1Hz and 30Hz\n"
   ],
   "metadata": {
    "collapsed": false,
    "ExecuteTime": {
     "start_time": "2023-05-26T11:29:44.895109Z",
     "end_time": "2023-05-26T11:29:46.943361Z"
    }
   }
  },
  {
   "cell_type": "markdown",
   "source": [
    "### Loading the behavioural data\n",
    "\n",
    "\n"
   ],
   "metadata": {
    "collapsed": false
   }
  },
  {
   "cell_type": "code",
   "execution_count": 18,
   "outputs": [
    {
     "name": "stdout",
     "output_type": "stream",
     "text": [
      "2813 events found\n",
      "Event IDs: [  4   8  16  33  34  35  36 253]\n"
     ]
    }
   ],
   "source": [
    "fileNameBehav = \"flankertask_eyetracker_52_202205121431_format.txt\"\n",
    "fullFileNameBehav = dataPathBehav + fileNameBehav\n",
    "\n",
    "\n",
    "# Load in behavioral data and make numpy array of trialtype\n",
    "trials = pd.read_csv(fullFileNameBehav, sep=\",\")\n",
    "trials['RT'].replace('None', np.nan, inplace=True)  # Replace \"none\" answers with \"nan\" for int processing\n",
    "trials['RT'] = pd.to_numeric(trials['RT'], errors='coerce', downcast='integer')\n",
    "\n",
    "trials['condition'] = trials['trialtype'] + ' ' + trials[\n",
    "    'alert']  # Make condition column, with alert and trialtype\n",
    "trials_num = trials[['condition']].to_numpy()\n",
    "\n",
    "# Change coding of trialtype, and reshape to appropriate dimension for later processing\n",
    "trials_num = np.where(trials_num == \"congruent alert\", 1, trials_num)\n",
    "trials_num = np.where(trials_num == \"congruent no_alert\", 2, trials_num)\n",
    "trials_num = np.where(trials_num == \"incongruent alert\", 3, trials_num)\n",
    "trials_num = np.where(trials_num == \"incongruent no_alert\", 4, trials_num)\n",
    "trials_num = np.where(trials_num == \"catch alert\", 5, trials_num)\n",
    "trials_num = trials_num.reshape(720)\n",
    "\n",
    "# Transfer the stimulus EEG triggers to an MNE event file\n",
    "events = mne.find_events(raw_eeg, uint_cast=True, consecutive=False)\n",
    "\n",
    "# Delete all markers except for \"alert_onset\" (34) --> we will use that to orient ourselves\n",
    "# Note that there were also \"alert_onset\" triggers in no_alert trials, these were just silent\n",
    "events_trials = mne.pick_events(events, exclude=[4, 8, 16, 33, 35, 36, 253])\n",
    "\n",
    "# Merge trials_num and events_trials: replace third column np array with trials_num that contain trial condition\n",
    "events_trials[:, 2] = trials_num\n",
    "\n",
    "# alert-centered to flanker centered (+500)\n",
    "events_trials[:, 0] = events_trials[:, 0] + (500 * (raw_eeg.info['sfreq'] / 1000))\n",
    "# Dictionary of numbers\n",
    "event_dict = {\"congruent alert\": 1, \"congruent no_alert\": 2,\n",
    "              \"incongruent alert\": 3, \"incongruent no_alert\": 4,\n",
    "              \"catch alert\": 5}"
   ],
   "metadata": {
    "collapsed": false,
    "ExecuteTime": {
     "start_time": "2023-05-26T11:36:30.042840Z",
     "end_time": "2023-05-26T11:36:30.116782Z"
    }
   }
  },
  {
   "cell_type": "code",
   "execution_count": 21,
   "outputs": [
    {
     "name": "stdout",
     "output_type": "stream",
     "text": [
      "Adding metadata with 11 columns\n",
      "720 matching events found\n",
      "No baseline correction applied\n",
      "0 projection items activated\n",
      "Using data from preloaded Raw for 720 events and 326 original time points ...\n",
      "0 bad epochs dropped\n"
     ]
    }
   ],
   "source": [
    "stimulus_epoch = (-0.6, 0.7)\n",
    "tmin, tmax = stimulus_epoch  # epoch from 0.6s before flanker onset to 0.7s after it\n",
    "\n",
    "epochs = mne.Epochs(filtered_eeg, events_trials, event_dict, tmin, tmax, baseline=None,\n",
    "                    metadata=trials, preload=True)"
   ],
   "metadata": {
    "collapsed": false,
    "ExecuteTime": {
     "start_time": "2023-05-26T11:40:50.265409Z",
     "end_time": "2023-05-26T11:40:50.572916Z"
    }
   }
  },
  {
   "cell_type": "markdown",
   "source": [
    "### Artifact rejection\n",
    "You may remember from the data acquisition practical that when the participant blinks, this will create big artifacts. So we want our software to detect eye blinks in the EOG channels, and correct the signal during those events. An independent component analysis (ICA) can do this for you.\n",
    "\n"
   ],
   "metadata": {
    "collapsed": false
   }
  },
  {
   "cell_type": "code",
   "execution_count": null,
   "outputs": [],
   "source": [
    "# ICA FOR EOG ARTIFACT DETECTION ----------------------------------------------------------------------------\n",
    "# Set up ICA\n",
    "from mne import epochs\n",
    "from mne.preprocessing import ICA\n",
    "\n",
    "method = 'picard'\n",
    "\n",
    "n_components = 40 # select n_components by explained variance of PCA\n",
    "random_state = 23 # Random seed\n",
    "\n",
    "ica = ICA(n_components=n_components, method=method, random_state=random_state)\n",
    "picks = mne.pick_types(epochs.info, eeg=True, eog=False,\n",
    "                       stim=False)\n",
    "\n",
    "# Fit ICA on non-rejected epochs\n",
    "ica.fit(epochs[~reject_log.bad_epochs], picks=picks, reject=None)\n",
    "\n",
    "ica.exclude = []\n",
    "\n",
    "# Then, find which ICs match the EOG pattern and put them in ica.exclude\n",
    "eog_indices, eog_scores = ica.find_bads_eog(epochs)\n",
    "ica.exclude = eog_indices\n",
    "\n",
    "# plot ICs applied to raw data, with ica.exclude highlighted. Check and see if I want to remove/add ICA's\n",
    "ica_components_plot = ica.plot_components(title=\"ica components of rejected epochs\")\n",
    "ica_plot_sources = ica.plot_sources(epochs[~reject_log.bad_epochs], block=True)\n",
    "\n",
    "# Finally, save and apply the ICA exclude to the data\n",
    "ica.save(file_loc + f'EEG/ica_eog_solution_{locked}_{subj}-ica.fif', overwrite=True)\n",
    "ica.apply(epochs, exclude=ica.exclude)\n",
    "\n",
    "epochs.info['bads'] = [] # Make bads list empty again, we'll let autoreject handle this\n",
    "epochs.save(file_loc + f'EEG/ica_cleaned_epochs_{locked}_{subj}-epo.fif', overwrite=True)\n",
    "print(f\"Saved ica-cleaned {locked} epochs\")"
   ],
   "metadata": {
    "collapsed": false
   }
  },
  {
   "cell_type": "markdown",
   "source": [
    "\n",
    "\n",
    "### Filtering\n",
    "\n"
   ],
   "metadata": {
    "collapsed": false
   }
  },
  {
   "cell_type": "code",
   "execution_count": null,
   "outputs": [],
   "source": [
    "low_cut = 1\n",
    "high_cut = 30\n",
    "filtered_eeg = raw_eeg.copy().filter(low_cut, high_cut, fir_design='firwin')  # Filter between 0.1Hz and 40Hz\n"
   ],
   "metadata": {
    "collapsed": false,
    "ExecuteTime": {
     "start_time": "2023-04-18T15:23:43.759498Z",
     "end_time": "2023-04-18T15:23:43.807661Z"
    },
    "pycharm": {
     "is_executing": true
    }
   }
  },
  {
   "cell_type": "markdown",
   "source": [
    "We will have to indicate which channels will be used as reference. Let's use the average of the two mastoids for this"
   ],
   "metadata": {
    "collapsed": false,
    "ExecuteTime": {
     "start_time": "2023-05-25T11:16:54.608493Z",
     "end_time": "2023-05-25T11:16:57.207239Z"
    }
   },
   "outputs": [],
   "execution_count": 26
  },
  {
   "cell_type": "code",
   "execution_count": 4,
   "outputs": [
    {
     "name": "stdout",
     "output_type": "stream",
     "text": [
      "EEG channel type selected for re-referencing\n",
      "Applying a custom ('EEG',) reference.\n"
     ]
    },
    {
     "data": {
      "text/plain": "<RawEDF | Eriksen001.bdf, 21 x 584960 (2285.0 s), ~93.7 MB, data loaded>",
      "text/html": "<table class=\"table table-hover table-striped table-sm table-responsive small\">\n    <tr>\n        <th>Measurement date</th>\n        \n        <td>February 03, 2006  11:37:49 GMT</td>\n        \n    </tr>\n    <tr>\n        <th>Experimenter</th>\n        \n        <td>Unknown</td>\n        \n    </tr>\n        <th>Participant</th>\n        \n        <td>Unknown</td>\n        \n    </tr>\n    <tr>\n        <th>Digitized points</th>\n        \n        <td>Not available</td>\n        \n    </tr>\n    <tr>\n        <th>Good channels</th>\n        <td>20 EEG, 1 Stimulus</td>\n    </tr>\n    <tr>\n        <th>Bad channels</th>\n        <td>None</td>\n    </tr>\n    <tr>\n        <th>EOG channels</th>\n        <td>Not available</td>\n    </tr>\n    <tr>\n        <th>ECG channels</th>\n        <td>Not available</td>\n    \n    <tr>\n        <th>Sampling frequency</th>\n        <td>256.00 Hz</td>\n    </tr>\n    \n    \n    <tr>\n        <th>Highpass</th>\n        <td>0.00 Hz</td>\n    </tr>\n    \n    \n    <tr>\n        <th>Lowpass</th>\n        <td>67.00 Hz</td>\n    </tr>\n    \n    \n    \n    <tr>\n        <th>Filenames</th>\n        <td>Eriksen001.bdf</td>\n    </tr>\n    \n    <tr>\n        <th>Duration</th>\n        <td>00:38:05 (HH:MM:SS)</td>\n    </tr>\n</table>"
     },
     "execution_count": 4,
     "metadata": {},
     "output_type": "execute_result"
    }
   ],
   "source": [
    "raw.set_eeg_reference(ref_channels=['EXG5', 'EXG6']) # Take average of mastoids as reference"
   ],
   "metadata": {
    "collapsed": false,
    "ExecuteTime": {
     "start_time": "2023-04-18T14:49:43.744408Z",
     "end_time": "2023-04-18T14:49:43.940522Z"
    }
   }
  },
  {
   "cell_type": "code",
   "execution_count": 29,
   "outputs": [],
   "source": [
    "biosemi_montage = mne.channels.make_standard_montage(\"biosemi16\")\n",
    "raw.set_montage(biosemi_montage, on_missing='ignore')\n",
    "raw.set_channel_types({'EXG1': 'eog', 'EXG2': 'eog', 'EXG3': 'eog', 'EXG4': 'eog', 'EXG5': 'eog', 'EXG6': 'eog'})\n"
   ],
   "metadata": {
    "collapsed": false,
    "ExecuteTime": {
     "start_time": "2023-05-25T11:17:51.787866Z",
     "end_time": "2023-05-25T11:17:56.740142Z"
    }
   }
  },
  {
   "cell_type": "markdown",
   "source": [
    "Now let's plot the raw data for a quick visual inspection"
   ],
   "metadata": {
    "collapsed": false,
    "ExecuteTime": {
     "start_time": "2023-05-24T11:59:03.420613Z",
     "end_time": "2023-05-24T11:59:03.506742Z"
    }
   },
   "outputs": [],
   "execution_count": 25
  },
  {
   "cell_type": "code",
   "execution_count": 10,
   "outputs": [],
   "source": [
    "raw.plot()"
   ],
   "metadata": {
    "collapsed": false,
    "ExecuteTime": {
     "start_time": "2023-04-18T14:53:09.994566Z",
     "end_time": "2023-04-18T14:53:10.588128Z"
    }
   }
  },
  {
   "cell_type": "markdown",
   "source": [
    "You will see that after an initial period, EXG5 and EXG6 are almost a flat line, why is this the case? Why is it not a complete flat line?"
   ],
   "metadata": {
    "collapsed": false,
    "ExecuteTime": {
     "start_time": "2023-05-25T09:49:59.386387Z",
     "end_time": "2023-05-25T09:50:05.911993Z"
    }
   },
   "outputs": [],
   "execution_count": 28
  },
  {
   "cell_type": "code",
   "execution_count": null,
   "outputs": [],
   "source": [
    "print(raw.info)"
   ],
   "metadata": {
    "collapsed": false,
    "ExecuteTime": {
     "start_time": "2023-04-18T08:27:24.313559Z",
     "end_time": "2023-04-18T08:27:24.323198Z"
    }
   }
  },
  {
   "cell_type": "markdown",
   "source": [
    "Probably depending on the screen, but it could be that the channel names  list has been truncated. When we are specifically interested in the channels we can use the ch_names command."
   ],
   "metadata": {
    "collapsed": false,
    "ExecuteTime": {
     "start_time": "2023-05-25T09:59:33.668281Z",
     "end_time": "2023-05-25T09:59:34.227711Z"
    }
   },
   "outputs": [],
   "execution_count": 23
  },
  {
   "cell_type": "code",
   "execution_count": 11,
   "outputs": [],
   "source": [
    "print(raw.ch_names)"
   ],
   "metadata": {
    "collapsed": false,
    "ExecuteTime": {
     "start_time": "2023-04-18T14:53:54.072876Z",
     "end_time": "2023-04-18T15:23:43.804082Z"
    }
   }
  },
  {
   "cell_type": "markdown",
   "source": [],
   "metadata": {
    "collapsed": false
   }
  },
  {
   "cell_type": "markdown",
   "source": [],
   "metadata": {
    "collapsed": false
   }
  },
  {
   "cell_type": "code",
   "execution_count": 110,
   "outputs": [],
   "source": [
    "montage=mne.channels.make_standard_montage('standard_1020')"
   ],
   "metadata": {
    "collapsed": false,
    "ExecuteTime": {
     "start_time": "2023-04-18T14:47:35.138347Z",
     "end_time": "2023-04-18T14:47:35.159134Z"
    }
   }
  },
  {
   "cell_type": "code",
   "execution_count": 111,
   "outputs": [
    {
     "ename": "ValueError",
     "evalue": "DigMontage is only a subset of info. There are 14 channel positions not present in the DigMontage. The required channels are:\n\n['A10', 'A12', 'A13', 'A14', 'A18', 'A31', 'B6', 'B13', 'B15', 'B16', 'B17', 'B18', 'B19', 'B23'].\n\nConsider using inst.set_channel_types if these are not EEG channels, or use the on_missing parameter if the channel positions are allowed to be unknown in your analyses.",
     "output_type": "error",
     "traceback": [
      "\u001B[0;31m---------------------------------------------------------------------------\u001B[0m",
      "\u001B[0;31mValueError\u001B[0m                                Traceback (most recent call last)",
      "Cell \u001B[0;32mIn[111], line 6\u001B[0m\n\u001B[1;32m      1\u001B[0m \u001B[38;5;66;03m#numChan = 21\u001B[39;00m\n\u001B[1;32m      2\u001B[0m \u001B[38;5;66;03m#for channel in range (0,numChan):\u001B[39;00m\n\u001B[1;32m      3\u001B[0m \n\u001B[1;32m      4\u001B[0m \u001B[38;5;66;03m#mne.channels.get_builtin_montages()\u001B[39;00m\n\u001B[1;32m      5\u001B[0m \u001B[38;5;66;03m#montage=mne.channels.make_standard_montage(kind=\"biosemi32\")\u001B[39;00m\n\u001B[0;32m----> 6\u001B[0m \u001B[43mraw\u001B[49m\u001B[38;5;241;43m.\u001B[39;49m\u001B[43mset_montage\u001B[49m\u001B[43m(\u001B[49m\u001B[43mmontage\u001B[49m\u001B[43m)\u001B[49m\n",
      "File \u001B[0;32m<decorator-gen-31>:12\u001B[0m, in \u001B[0;36mset_montage\u001B[0;34m(self, montage, match_case, match_alias, on_missing, verbose)\u001B[0m\n",
      "File \u001B[0;32m~/opt/anaconda3/envs/experimentationConda/lib/python3.8/site-packages/mne/io/meas_info.py:238\u001B[0m, in \u001B[0;36mMontageMixin.set_montage\u001B[0;34m(self, montage, match_case, match_alias, on_missing, verbose)\u001B[0m\n\u001B[1;32m    236\u001B[0m \u001B[38;5;28;01mfrom\u001B[39;00m \u001B[38;5;21;01m.\u001B[39;00m\u001B[38;5;21;01m.\u001B[39;00m\u001B[38;5;21;01mchannels\u001B[39;00m\u001B[38;5;21;01m.\u001B[39;00m\u001B[38;5;21;01mmontage\u001B[39;00m \u001B[38;5;28;01mimport\u001B[39;00m _set_montage\n\u001B[1;32m    237\u001B[0m info \u001B[38;5;241m=\u001B[39m \u001B[38;5;28mself\u001B[39m \u001B[38;5;28;01mif\u001B[39;00m \u001B[38;5;28misinstance\u001B[39m(\u001B[38;5;28mself\u001B[39m, Info) \u001B[38;5;28;01melse\u001B[39;00m \u001B[38;5;28mself\u001B[39m\u001B[38;5;241m.\u001B[39minfo\n\u001B[0;32m--> 238\u001B[0m \u001B[43m_set_montage\u001B[49m\u001B[43m(\u001B[49m\u001B[43minfo\u001B[49m\u001B[43m,\u001B[49m\u001B[43m \u001B[49m\u001B[43mmontage\u001B[49m\u001B[43m,\u001B[49m\u001B[43m \u001B[49m\u001B[43mmatch_case\u001B[49m\u001B[43m,\u001B[49m\u001B[43m \u001B[49m\u001B[43mmatch_alias\u001B[49m\u001B[43m,\u001B[49m\u001B[43m \u001B[49m\u001B[43mon_missing\u001B[49m\u001B[43m)\u001B[49m\n\u001B[1;32m    239\u001B[0m \u001B[38;5;28;01mreturn\u001B[39;00m \u001B[38;5;28mself\u001B[39m\n",
      "File \u001B[0;32m~/opt/anaconda3/envs/experimentationConda/lib/python3.8/site-packages/mne/channels/montage.py:1195\u001B[0m, in \u001B[0;36m_set_montage\u001B[0;34m(***failed resolving arguments***)\u001B[0m\n\u001B[1;32m   1185\u001B[0m missing_names \u001B[38;5;241m=\u001B[39m [info_names[ii] \u001B[38;5;28;01mfor\u001B[39;00m ii \u001B[38;5;129;01min\u001B[39;00m missing]\n\u001B[1;32m   1186\u001B[0m missing_coord_msg \u001B[38;5;241m=\u001B[39m (\n\u001B[1;32m   1187\u001B[0m     \u001B[38;5;124m'\u001B[39m\u001B[38;5;124mDigMontage is only a subset of info. There are \u001B[39m\u001B[38;5;124m'\u001B[39m\n\u001B[1;32m   1188\u001B[0m     \u001B[38;5;124mf\u001B[39m\u001B[38;5;124m'\u001B[39m\u001B[38;5;132;01m{\u001B[39;00m\u001B[38;5;28mlen\u001B[39m(missing)\u001B[38;5;132;01m}\u001B[39;00m\u001B[38;5;124m channel position\u001B[39m\u001B[38;5;132;01m{\u001B[39;00m_pl(missing)\u001B[38;5;132;01m}\u001B[39;00m\u001B[38;5;124m \u001B[39m\u001B[38;5;124m'\u001B[39m\n\u001B[0;32m   (...)\u001B[0m\n\u001B[1;32m   1193\u001B[0m     \u001B[38;5;124m'\u001B[39m\u001B[38;5;124min your analyses.\u001B[39m\u001B[38;5;124m'\u001B[39m\n\u001B[1;32m   1194\u001B[0m )\n\u001B[0;32m-> 1195\u001B[0m \u001B[43m_on_missing\u001B[49m\u001B[43m(\u001B[49m\u001B[43mon_missing\u001B[49m\u001B[43m,\u001B[49m\u001B[43m \u001B[49m\u001B[43mmissing_coord_msg\u001B[49m\u001B[43m)\u001B[49m\n\u001B[1;32m   1197\u001B[0m \u001B[38;5;66;03m# set ch coordinates and names from digmontage or nan coords\u001B[39;00m\n\u001B[1;32m   1198\u001B[0m \u001B[38;5;28;01mfor\u001B[39;00m ii \u001B[38;5;129;01min\u001B[39;00m missing:\n",
      "File \u001B[0;32m~/opt/anaconda3/envs/experimentationConda/lib/python3.8/site-packages/mne/utils/check.py:1040\u001B[0m, in \u001B[0;36m_on_missing\u001B[0;34m(on_missing, msg, name, error_klass)\u001B[0m\n\u001B[1;32m   1038\u001B[0m on_missing \u001B[38;5;241m=\u001B[39m \u001B[38;5;124m'\u001B[39m\u001B[38;5;124mwarn\u001B[39m\u001B[38;5;124m'\u001B[39m \u001B[38;5;28;01mif\u001B[39;00m on_missing \u001B[38;5;241m==\u001B[39m \u001B[38;5;124m'\u001B[39m\u001B[38;5;124mwarning\u001B[39m\u001B[38;5;124m'\u001B[39m \u001B[38;5;28;01melse\u001B[39;00m on_missing\n\u001B[1;32m   1039\u001B[0m \u001B[38;5;28;01mif\u001B[39;00m on_missing \u001B[38;5;241m==\u001B[39m \u001B[38;5;124m'\u001B[39m\u001B[38;5;124mraise\u001B[39m\u001B[38;5;124m'\u001B[39m:\n\u001B[0;32m-> 1040\u001B[0m     \u001B[38;5;28;01mraise\u001B[39;00m error_klass(msg)\n\u001B[1;32m   1041\u001B[0m \u001B[38;5;28;01melif\u001B[39;00m on_missing \u001B[38;5;241m==\u001B[39m \u001B[38;5;124m'\u001B[39m\u001B[38;5;124mwarn\u001B[39m\u001B[38;5;124m'\u001B[39m:\n\u001B[1;32m   1042\u001B[0m     warn(msg)\n",
      "\u001B[0;31mValueError\u001B[0m: DigMontage is only a subset of info. There are 14 channel positions not present in the DigMontage. The required channels are:\n\n['A10', 'A12', 'A13', 'A14', 'A18', 'A31', 'B6', 'B13', 'B15', 'B16', 'B17', 'B18', 'B19', 'B23'].\n\nConsider using inst.set_channel_types if these are not EEG channels, or use the on_missing parameter if the channel positions are allowed to be unknown in your analyses."
     ]
    }
   ],
   "source": [
    "#numChan = 21\n",
    "#for channel in range (0,numChan):\n",
    "\n",
    "#mne.channels.get_builtin_montages()\n",
    "#montage=mne.channels.make_standard_montage(kind=\"biosemi32\")\n",
    "raw.set_montage(montage); #on_missing='ignore'\n",
    "#print(raw.ch_names)"
   ],
   "metadata": {
    "collapsed": false,
    "ExecuteTime": {
     "start_time": "2023-04-17T18:18:50.025375Z",
     "end_time": "2023-04-17T18:18:50.036985Z"
    }
   }
  },
  {
   "cell_type": "code",
   "execution_count": null,
   "outputs": [],
   "source": [
    "print(raw.ch_names)"
   ],
   "metadata": {
    "collapsed": false,
    "ExecuteTime": {
     "start_time": "2023-04-18T14:47:19.958825Z",
     "end_time": "2023-04-18T14:47:19.966725Z"
    }
   }
  },
  {
   "cell_type": "code",
   "execution_count": 7,
   "outputs": [
    {
     "ename": "RuntimeError",
     "evalue": "No valid channel positions found",
     "output_type": "error",
     "traceback": [
      "\u001B[0;31m---------------------------------------------------------------------------\u001B[0m",
      "\u001B[0;31mRuntimeError\u001B[0m                              Traceback (most recent call last)",
      "Cell \u001B[0;32mIn[7], line 1\u001B[0m\n\u001B[0;32m----> 1\u001B[0m \u001B[43mraw\u001B[49m\u001B[38;5;241;43m.\u001B[39;49m\u001B[43mplot_sensors\u001B[49m\u001B[43m(\u001B[49m\u001B[43mkind\u001B[49m\u001B[38;5;241;43m=\u001B[39;49m\u001B[38;5;124;43m'\u001B[39;49m\u001B[38;5;124;43m3d\u001B[39;49m\u001B[38;5;124;43m'\u001B[39;49m\u001B[43m,\u001B[49m\u001B[43m \u001B[49m\u001B[43mch_type\u001B[49m\u001B[38;5;241;43m=\u001B[39;49m\u001B[38;5;124;43m'\u001B[39;49m\u001B[38;5;124;43meeg\u001B[39;49m\u001B[38;5;124;43m'\u001B[39;49m\u001B[43m)\u001B[49m\n",
      "File \u001B[0;32m<decorator-gen-44>:12\u001B[0m, in \u001B[0;36mplot_sensors\u001B[0;34m(self, kind, ch_type, title, show_names, ch_groups, to_sphere, axes, block, show, sphere, verbose)\u001B[0m\n",
      "File \u001B[0;32m~/opt/anaconda3/envs/experimentationConda/lib/python3.8/site-packages/mne/channels/channels.py:504\u001B[0m, in \u001B[0;36mSetChannelsMixin.plot_sensors\u001B[0;34m(self, kind, ch_type, title, show_names, ch_groups, to_sphere, axes, block, show, sphere, verbose)\u001B[0m\n\u001B[1;32m    434\u001B[0m \u001B[38;5;124;03m\"\"\"Plot sensor positions.\u001B[39;00m\n\u001B[1;32m    435\u001B[0m \n\u001B[1;32m    436\u001B[0m \u001B[38;5;124;03mParameters\u001B[39;00m\n\u001B[0;32m   (...)\u001B[0m\n\u001B[1;32m    501\u001B[0m \u001B[38;5;124;03m.. versionadded:: 0.12.0\u001B[39;00m\n\u001B[1;32m    502\u001B[0m \u001B[38;5;124;03m\"\"\"\u001B[39;00m\n\u001B[1;32m    503\u001B[0m \u001B[38;5;28;01mfrom\u001B[39;00m \u001B[38;5;21;01m.\u001B[39;00m\u001B[38;5;21;01m.\u001B[39;00m\u001B[38;5;21;01mviz\u001B[39;00m\u001B[38;5;21;01m.\u001B[39;00m\u001B[38;5;21;01mutils\u001B[39;00m \u001B[38;5;28;01mimport\u001B[39;00m plot_sensors\n\u001B[0;32m--> 504\u001B[0m \u001B[38;5;28;01mreturn\u001B[39;00m \u001B[43mplot_sensors\u001B[49m\u001B[43m(\u001B[49m\u001B[38;5;28;43mself\u001B[39;49m\u001B[38;5;241;43m.\u001B[39;49m\u001B[43minfo\u001B[49m\u001B[43m,\u001B[49m\u001B[43m \u001B[49m\u001B[43mkind\u001B[49m\u001B[38;5;241;43m=\u001B[39;49m\u001B[43mkind\u001B[49m\u001B[43m,\u001B[49m\u001B[43m \u001B[49m\u001B[43mch_type\u001B[49m\u001B[38;5;241;43m=\u001B[39;49m\u001B[43mch_type\u001B[49m\u001B[43m,\u001B[49m\u001B[43m \u001B[49m\u001B[43mtitle\u001B[49m\u001B[38;5;241;43m=\u001B[39;49m\u001B[43mtitle\u001B[49m\u001B[43m,\u001B[49m\n\u001B[1;32m    505\u001B[0m \u001B[43m                    \u001B[49m\u001B[43mshow_names\u001B[49m\u001B[38;5;241;43m=\u001B[39;49m\u001B[43mshow_names\u001B[49m\u001B[43m,\u001B[49m\u001B[43m \u001B[49m\u001B[43mch_groups\u001B[49m\u001B[38;5;241;43m=\u001B[39;49m\u001B[43mch_groups\u001B[49m\u001B[43m,\u001B[49m\n\u001B[1;32m    506\u001B[0m \u001B[43m                    \u001B[49m\u001B[43mto_sphere\u001B[49m\u001B[38;5;241;43m=\u001B[39;49m\u001B[43mto_sphere\u001B[49m\u001B[43m,\u001B[49m\u001B[43m \u001B[49m\u001B[43maxes\u001B[49m\u001B[38;5;241;43m=\u001B[39;49m\u001B[43maxes\u001B[49m\u001B[43m,\u001B[49m\u001B[43m \u001B[49m\u001B[43mblock\u001B[49m\u001B[38;5;241;43m=\u001B[39;49m\u001B[43mblock\u001B[49m\u001B[43m,\u001B[49m\n\u001B[1;32m    507\u001B[0m \u001B[43m                    \u001B[49m\u001B[43mshow\u001B[49m\u001B[38;5;241;43m=\u001B[39;49m\u001B[43mshow\u001B[49m\u001B[43m,\u001B[49m\u001B[43m \u001B[49m\u001B[43msphere\u001B[49m\u001B[38;5;241;43m=\u001B[39;49m\u001B[43msphere\u001B[49m\u001B[43m,\u001B[49m\u001B[43m \u001B[49m\u001B[43mverbose\u001B[49m\u001B[38;5;241;43m=\u001B[39;49m\u001B[43mverbose\u001B[49m\u001B[43m)\u001B[49m\n",
      "File \u001B[0;32m<decorator-gen-98>:12\u001B[0m, in \u001B[0;36mplot_sensors\u001B[0;34m(info, kind, ch_type, title, show_names, ch_groups, to_sphere, axes, block, show, sphere, pointsize, linewidth, verbose)\u001B[0m\n",
      "File \u001B[0;32m~/opt/anaconda3/envs/experimentationConda/lib/python3.8/site-packages/mne/viz/utils.py:1027\u001B[0m, in \u001B[0;36mplot_sensors\u001B[0;34m(info, kind, ch_type, title, show_names, ch_groups, to_sphere, axes, block, show, sphere, pointsize, linewidth, verbose)\u001B[0m\n\u001B[1;32m   1024\u001B[0m     \u001B[38;5;28;01mraise\u001B[39;00m \u001B[38;5;167;01mValueError\u001B[39;00m(\u001B[38;5;124mf\u001B[39m\u001B[38;5;124m'\u001B[39m\u001B[38;5;124mCould not find any channels of type \u001B[39m\u001B[38;5;132;01m{\u001B[39;00mch_type\u001B[38;5;132;01m}\u001B[39;00m\u001B[38;5;124m.\u001B[39m\u001B[38;5;124m'\u001B[39m)\n\u001B[1;32m   1026\u001B[0m \u001B[38;5;28;01mif\u001B[39;00m \u001B[38;5;129;01mnot\u001B[39;00m _check_ch_locs(info\u001B[38;5;241m=\u001B[39minfo, picks\u001B[38;5;241m=\u001B[39mpicks):\n\u001B[0;32m-> 1027\u001B[0m     \u001B[38;5;28;01mraise\u001B[39;00m \u001B[38;5;167;01mRuntimeError\u001B[39;00m(\u001B[38;5;124m'\u001B[39m\u001B[38;5;124mNo valid channel positions found\u001B[39m\u001B[38;5;124m'\u001B[39m)\n\u001B[1;32m   1029\u001B[0m dev_head_t \u001B[38;5;241m=\u001B[39m info[\u001B[38;5;124m'\u001B[39m\u001B[38;5;124mdev_head_t\u001B[39m\u001B[38;5;124m'\u001B[39m]\n\u001B[1;32m   1030\u001B[0m chs \u001B[38;5;241m=\u001B[39m [info[\u001B[38;5;124m'\u001B[39m\u001B[38;5;124mchs\u001B[39m\u001B[38;5;124m'\u001B[39m][pick] \u001B[38;5;28;01mfor\u001B[39;00m pick \u001B[38;5;129;01min\u001B[39;00m picks]\n",
      "\u001B[0;31mRuntimeError\u001B[0m: No valid channel positions found"
     ]
    }
   ],
   "source": [
    "raw.plot_sensors(kind='3d', ch_type='eeg')"
   ],
   "metadata": {
    "collapsed": false,
    "ExecuteTime": {
     "start_time": "2023-04-18T14:43:28.263627Z",
     "end_time": "2023-04-18T14:43:30.694399Z"
    }
   }
  },
  {
   "cell_type": "code",
   "execution_count": null,
   "outputs": [],
   "source": [
    "raweeg.compute_psd(fmax=50).plot"
   ],
   "metadata": {
    "collapsed": false,
    "pycharm": {
     "is_executing": true
    }
   }
  },
  {
   "cell_type": "code",
   "execution_count": null,
   "outputs": [],
   "source": [],
   "metadata": {
    "collapsed": false
   }
  }
 ],
 "metadata": {
  "kernelspec": {
   "display_name": "Python 3 (ipykernel)",
   "language": "python",
   "name": "python3"
  },
  "language_info": {
   "codemirror_mode": {
    "name": "ipython",
    "version": 3
   },
   "file_extension": ".py",
   "mimetype": "text/x-python",
   "name": "python",
   "nbconvert_exporter": "python",
   "pygments_lexer": "ipython3",
   "version": "3.9.12"
  }
 },
 "nbformat": 4,
 "nbformat_minor": 1
}
