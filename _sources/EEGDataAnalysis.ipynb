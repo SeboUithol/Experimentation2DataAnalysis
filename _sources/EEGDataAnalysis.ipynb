{
 "cells": [
  {
   "cell_type": "markdown",
   "metadata": {},
   "source": [
    "# Analysing data with Python and MNE\n",
    "\n",
    "_Sebo Uithol, PhD, June 2023. Thanks to Jeshua Tromp and David Vogelsang for their help setting up this Jupyter Notebook._\n",
    "\n",
    "Welcome to the practical session EEG data analysis using MNE! This practical session is part of the course Experimentation II at Leiden University. In this session we will study the EEG signals during an Eriksen Flankers Task. We will get acquainted with the basic preprocessing steps, the analysis of the data and the interpretation of the results.\n",
    "\n",
    "The data that we will be analysing was recorded at Leiden University, with the same equipment that we have used during the data acquisition practical.\n",
    "\n",
    "The data was acquired during an Eriksen flankers task. This is a conflict task that belongs to the same family of paradigms as the Stroop and Simon task. Participants are instructed to respond as fast as possible to the direction of the central stimulus in an array like this by pressing a response button with the corresponding index finger (in this case the right index finger) The experiment was a bit more complex than the standard Flankers task, but we will ignore this here.\n",
    "\n",
    "Flanking stimuli around the target are irrelevant, but can prime the correct response (congruent), or the opposite response (incongruent). Immediately after stimulus presentation, the attentional spotlight (the area of stimulus information that is selected for further processing) has not yet been narrowed, so the dominant information derives from the flankers, which may point at the wrong response. As the spotlight is narrowed, the support for the correct response increases. In the ERP you are likely to see initial signs of motor preparation for the hand indicated by the flankers (LRP) and signs of error detection processes (ERN). In addition, the ERP will show large components such as the P300. Prior to the P300, there is a weak negative component that is sensitive to the presence of conflict in the decision processes (N200). We will see to what extent these waves can be identified and quantified."
   ]
  },
  {
   "cell_type": "markdown",
   "source": [
    "### About MNE\n",
    "MNE (MEG & EEG) is a python toolbox. Both python and MNE are free, which makes it an analysis combination that is rapidly gaining ground. Installing and setting it up can be a bit more tricky, though, as there is a web of versions, libraries, dependencies, etc, that can change quickly."
   ],
   "metadata": {
    "collapsed": false
   }
  },
  {
   "cell_type": "markdown",
   "source": [
    "### About this tutorial\n",
    "This tutorial takes you through the absolute basic steps of EEG data analysis using MNE. MNE has an excellent website (https://mne.tools/stable/auto_tutorials/index.html) with all the commands explained, and also sample scripts showing how these commands can be put to use. I encourage you to look it up, and incorporate the commands you find there in the script below. At the bottom of this tutorial there is room to add your own commants."
   ],
   "metadata": {
    "collapsed": false
   }
  },
  {
   "cell_type": "markdown",
   "source": [
    "### Importing\n",
    "Before we can start loading the data, we need to have the proper tools in place. Obviously we need to import MNE. Next we import matplotlib, for data visualisation, pandas for data analysis, and numpy for working with data structures. If you don't like typing the same words over and over again, you can import libraries as a shorter name, for instance 'pandas' as 'pd'. This saves time later on, but it is optional."
   ],
   "metadata": {
    "collapsed": false
   }
  },
  {
   "cell_type": "code",
   "execution_count": 1,
   "outputs": [
    {
     "name": "stdout",
     "output_type": "stream",
     "text": [
      "Requirement already satisfied: mne in /Users/sebouithol/opt/anaconda3/envs/experimentationConda/lib/python3.8/site-packages (1.3.1)\r\n",
      "Requirement already satisfied: matplotlib in /Users/sebouithol/opt/anaconda3/envs/experimentationConda/lib/python3.8/site-packages (from mne) (3.7.1)\r\n",
      "Requirement already satisfied: numpy>=1.15.4 in /Users/sebouithol/opt/anaconda3/envs/experimentationConda/lib/python3.8/site-packages (from mne) (1.23.5)\r\n",
      "Requirement already satisfied: scipy>=1.1.0 in /Users/sebouithol/opt/anaconda3/envs/experimentationConda/lib/python3.8/site-packages (from mne) (1.10.1)\r\n",
      "Requirement already satisfied: tqdm in /Users/sebouithol/opt/anaconda3/envs/experimentationConda/lib/python3.8/site-packages (from mne) (4.65.0)\r\n",
      "Requirement already satisfied: packaging in /Users/sebouithol/opt/anaconda3/envs/experimentationConda/lib/python3.8/site-packages (from mne) (23.0)\r\n",
      "Requirement already satisfied: decorator in /Users/sebouithol/opt/anaconda3/envs/experimentationConda/lib/python3.8/site-packages (from mne) (5.1.1)\r\n",
      "Requirement already satisfied: pooch>=1.5 in /Users/sebouithol/opt/anaconda3/envs/experimentationConda/lib/python3.8/site-packages (from mne) (1.7.0)\r\n",
      "Requirement already satisfied: jinja2 in /Users/sebouithol/opt/anaconda3/envs/experimentationConda/lib/python3.8/site-packages (from mne) (3.1.2)\r\n",
      "Requirement already satisfied: platformdirs>=2.5.0 in /Users/sebouithol/opt/anaconda3/envs/experimentationConda/lib/python3.8/site-packages (from pooch>=1.5->mne) (2.5.2)\r\n",
      "Requirement already satisfied: requests>=2.19.0 in /Users/sebouithol/opt/anaconda3/envs/experimentationConda/lib/python3.8/site-packages (from pooch>=1.5->mne) (2.28.1)\r\n",
      "Requirement already satisfied: MarkupSafe>=2.0 in /Users/sebouithol/opt/anaconda3/envs/experimentationConda/lib/python3.8/site-packages (from jinja2->mne) (2.1.1)\r\n",
      "Requirement already satisfied: cycler>=0.10 in /Users/sebouithol/opt/anaconda3/envs/experimentationConda/lib/python3.8/site-packages (from matplotlib->mne) (0.11.0)\r\n",
      "Requirement already satisfied: importlib-resources>=3.2.0 in /Users/sebouithol/opt/anaconda3/envs/experimentationConda/lib/python3.8/site-packages (from matplotlib->mne) (5.2.0)\r\n",
      "Requirement already satisfied: contourpy>=1.0.1 in /Users/sebouithol/opt/anaconda3/envs/experimentationConda/lib/python3.8/site-packages (from matplotlib->mne) (1.0.5)\r\n",
      "Requirement already satisfied: pillow>=6.2.0 in /Users/sebouithol/opt/anaconda3/envs/experimentationConda/lib/python3.8/site-packages (from matplotlib->mne) (9.4.0)\r\n",
      "Requirement already satisfied: kiwisolver>=1.0.1 in /Users/sebouithol/opt/anaconda3/envs/experimentationConda/lib/python3.8/site-packages (from matplotlib->mne) (1.4.4)\r\n",
      "Requirement already satisfied: pyparsing>=2.3.1 in /Users/sebouithol/opt/anaconda3/envs/experimentationConda/lib/python3.8/site-packages (from matplotlib->mne) (3.0.9)\r\n",
      "Requirement already satisfied: python-dateutil>=2.7 in /Users/sebouithol/opt/anaconda3/envs/experimentationConda/lib/python3.8/site-packages (from matplotlib->mne) (2.8.2)\r\n",
      "Requirement already satisfied: fonttools>=4.22.0 in /Users/sebouithol/opt/anaconda3/envs/experimentationConda/lib/python3.8/site-packages (from matplotlib->mne) (4.25.0)\r\n",
      "Requirement already satisfied: zipp>=3.1.0 in /Users/sebouithol/opt/anaconda3/envs/experimentationConda/lib/python3.8/site-packages (from importlib-resources>=3.2.0->matplotlib->mne) (3.11.0)\r\n",
      "Requirement already satisfied: six>=1.5 in /Users/sebouithol/opt/anaconda3/envs/experimentationConda/lib/python3.8/site-packages (from python-dateutil>=2.7->matplotlib->mne) (1.16.0)\r\n",
      "Requirement already satisfied: charset-normalizer<3,>=2 in /Users/sebouithol/opt/anaconda3/envs/experimentationConda/lib/python3.8/site-packages (from requests>=2.19.0->pooch>=1.5->mne) (2.0.4)\r\n",
      "Requirement already satisfied: idna<4,>=2.5 in /Users/sebouithol/opt/anaconda3/envs/experimentationConda/lib/python3.8/site-packages (from requests>=2.19.0->pooch>=1.5->mne) (3.4)\r\n",
      "Requirement already satisfied: urllib3<1.27,>=1.21.1 in /Users/sebouithol/opt/anaconda3/envs/experimentationConda/lib/python3.8/site-packages (from requests>=2.19.0->pooch>=1.5->mne) (1.26.15)\r\n",
      "Requirement already satisfied: certifi>=2017.4.17 in /Users/sebouithol/opt/anaconda3/envs/experimentationConda/lib/python3.8/site-packages (from requests>=2.19.0->pooch>=1.5->mne) (2022.12.7)\r\n",
      "Note: you may need to restart the kernel to use updated packages.\n"
     ]
    }
   ],
   "source": [
    "import matplotlib\n",
    "import pandas as pd\n",
    "import numpy as np\n",
    "%pip install mne\n",
    "import mne\n",
    "%pip install python-picard"
   ],
   "metadata": {
    "collapsed": false,
    "ExecuteTime": {
     "start_time": "2023-06-09T14:31:14.997582Z",
     "end_time": "2023-06-09T14:31:17.621760Z"
    }
   }
  },
  {
   "cell_type": "markdown",
   "source": [
    "### Loading the data\n",
    "Now we want to create an array with the content of the eeg data file. We do this using the command read_raw_bdf. This command is part of the MNE toolbox, and within MNE of the io (input-output) library, so the full command will read as: nameArray = mne.io.read_raw(\"file name\"). We set preload to _True_, which means that the entire file (390MB will be loaded into the memory. This will result in faster processing, but requires more RAM. If your computer does not have much memory, you may want to set this to _False_."
   ],
   "metadata": {
    "collapsed": false
   }
  },
  {
   "cell_type": "code",
   "execution_count": 2,
   "outputs": [
    {
     "name": "stdout",
     "output_type": "stream",
     "text": [
      "Extracting EDF parameters from /Users/sebouithol/DataspellProjects/Experimentation2DataAnalysis/Experimentation2/Flanker_EEG_52_12052022.bdf...\n",
      "BDF file detected\n"
     ]
    },
    {
     "ename": "FileNotFoundError",
     "evalue": "[Errno 2] No such file or directory: '/Users/sebouithol/DataspellProjects/Experimentation2DataAnalysis/Experimentation2/Flanker_EEG_52_12052022.bdf'",
     "output_type": "error",
     "traceback": [
      "\u001B[0;31m---------------------------------------------------------------------------\u001B[0m",
      "\u001B[0;31mFileNotFoundError\u001B[0m                         Traceback (most recent call last)",
      "Cell \u001B[0;32mIn[2], line 3\u001B[0m\n\u001B[1;32m      1\u001B[0m filename \u001B[38;5;241m=\u001B[39m \u001B[38;5;124m\"\u001B[39m\u001B[38;5;124mFlanker_EEG_52_12052022.bdf\u001B[39m\u001B[38;5;124m\"\u001B[39m\n\u001B[0;32m----> 3\u001B[0m raw_eeg \u001B[38;5;241m=\u001B[39m \u001B[43mmne\u001B[49m\u001B[38;5;241;43m.\u001B[39;49m\u001B[43mio\u001B[49m\u001B[38;5;241;43m.\u001B[39;49m\u001B[43mread_raw_bdf\u001B[49m\u001B[43m(\u001B[49m\u001B[43mfilename\u001B[49m\u001B[43m,\u001B[49m\u001B[43m \u001B[49m\u001B[43mpreload\u001B[49m\u001B[38;5;241;43m=\u001B[39;49m\u001B[38;5;28;43;01mTrue\u001B[39;49;00m\u001B[43m)\u001B[49m\n",
      "File \u001B[0;32m~/opt/anaconda3/envs/experimentationConda/lib/python3.8/site-packages/mne/io/edf/edf.py:1515\u001B[0m, in \u001B[0;36mread_raw_bdf\u001B[0;34m(input_fname, eog, misc, stim_channel, exclude, infer_types, include, preload, units, encoding, verbose)\u001B[0m\n\u001B[1;32m   1513\u001B[0m \u001B[38;5;28;01mif\u001B[39;00m ext \u001B[38;5;241m!=\u001B[39m \u001B[38;5;124m'\u001B[39m\u001B[38;5;124mbdf\u001B[39m\u001B[38;5;124m'\u001B[39m:\n\u001B[1;32m   1514\u001B[0m     \u001B[38;5;28;01mraise\u001B[39;00m \u001B[38;5;167;01mNotImplementedError\u001B[39;00m(\u001B[38;5;124mf\u001B[39m\u001B[38;5;124m'\u001B[39m\u001B[38;5;124mOnly BDF files are supported, got \u001B[39m\u001B[38;5;132;01m{\u001B[39;00mext\u001B[38;5;132;01m}\u001B[39;00m\u001B[38;5;124m.\u001B[39m\u001B[38;5;124m'\u001B[39m)\n\u001B[0;32m-> 1515\u001B[0m \u001B[38;5;28;01mreturn\u001B[39;00m \u001B[43mRawEDF\u001B[49m\u001B[43m(\u001B[49m\u001B[43minput_fname\u001B[49m\u001B[38;5;241;43m=\u001B[39;49m\u001B[43minput_fname\u001B[49m\u001B[43m,\u001B[49m\u001B[43m \u001B[49m\u001B[43meog\u001B[49m\u001B[38;5;241;43m=\u001B[39;49m\u001B[43meog\u001B[49m\u001B[43m,\u001B[49m\u001B[43m \u001B[49m\u001B[43mmisc\u001B[49m\u001B[38;5;241;43m=\u001B[39;49m\u001B[43mmisc\u001B[49m\u001B[43m,\u001B[49m\n\u001B[1;32m   1516\u001B[0m \u001B[43m              \u001B[49m\u001B[43mstim_channel\u001B[49m\u001B[38;5;241;43m=\u001B[39;49m\u001B[43mstim_channel\u001B[49m\u001B[43m,\u001B[49m\u001B[43m \u001B[49m\u001B[43mexclude\u001B[49m\u001B[38;5;241;43m=\u001B[39;49m\u001B[43mexclude\u001B[49m\u001B[43m,\u001B[49m\n\u001B[1;32m   1517\u001B[0m \u001B[43m              \u001B[49m\u001B[43minfer_types\u001B[49m\u001B[38;5;241;43m=\u001B[39;49m\u001B[43minfer_types\u001B[49m\u001B[43m,\u001B[49m\u001B[43m \u001B[49m\u001B[43mpreload\u001B[49m\u001B[38;5;241;43m=\u001B[39;49m\u001B[43mpreload\u001B[49m\u001B[43m,\u001B[49m\u001B[43m \u001B[49m\u001B[43minclude\u001B[49m\u001B[38;5;241;43m=\u001B[39;49m\u001B[43minclude\u001B[49m\u001B[43m,\u001B[49m\n\u001B[1;32m   1518\u001B[0m \u001B[43m              \u001B[49m\u001B[43munits\u001B[49m\u001B[38;5;241;43m=\u001B[39;49m\u001B[43munits\u001B[49m\u001B[43m,\u001B[49m\u001B[43m \u001B[49m\u001B[43mencoding\u001B[49m\u001B[38;5;241;43m=\u001B[39;49m\u001B[43mencoding\u001B[49m\u001B[43m,\u001B[49m\u001B[43m \u001B[49m\u001B[43mverbose\u001B[49m\u001B[38;5;241;43m=\u001B[39;49m\u001B[43mverbose\u001B[49m\u001B[43m)\u001B[49m\n",
      "File \u001B[0;32m<decorator-gen-244>:12\u001B[0m, in \u001B[0;36m__init__\u001B[0;34m(self, input_fname, eog, misc, stim_channel, exclude, infer_types, preload, include, units, encoding, verbose)\u001B[0m\n",
      "File \u001B[0;32m~/opt/anaconda3/envs/experimentationConda/lib/python3.8/site-packages/mne/io/edf/edf.py:141\u001B[0m, in \u001B[0;36mRawEDF.__init__\u001B[0;34m(self, input_fname, eog, misc, stim_channel, exclude, infer_types, preload, include, units, encoding, verbose)\u001B[0m\n\u001B[1;32m    139\u001B[0m logger\u001B[38;5;241m.\u001B[39minfo(\u001B[38;5;124m'\u001B[39m\u001B[38;5;124mExtracting EDF parameters from \u001B[39m\u001B[38;5;132;01m{}\u001B[39;00m\u001B[38;5;124m...\u001B[39m\u001B[38;5;124m'\u001B[39m\u001B[38;5;241m.\u001B[39mformat(input_fname))\n\u001B[1;32m    140\u001B[0m input_fname \u001B[38;5;241m=\u001B[39m os\u001B[38;5;241m.\u001B[39mpath\u001B[38;5;241m.\u001B[39mabspath(input_fname)\n\u001B[0;32m--> 141\u001B[0m info, edf_info, orig_units \u001B[38;5;241m=\u001B[39m \u001B[43m_get_info\u001B[49m\u001B[43m(\u001B[49m\u001B[43minput_fname\u001B[49m\u001B[43m,\u001B[49m\u001B[43m \u001B[49m\u001B[43mstim_channel\u001B[49m\u001B[43m,\u001B[49m\u001B[43m \u001B[49m\u001B[43meog\u001B[49m\u001B[43m,\u001B[49m\n\u001B[1;32m    142\u001B[0m \u001B[43m                                       \u001B[49m\u001B[43mmisc\u001B[49m\u001B[43m,\u001B[49m\u001B[43m \u001B[49m\u001B[43mexclude\u001B[49m\u001B[43m,\u001B[49m\u001B[43m \u001B[49m\u001B[43minfer_types\u001B[49m\u001B[43m,\u001B[49m\n\u001B[1;32m    143\u001B[0m \u001B[43m                                       \u001B[49m\u001B[43mpreload\u001B[49m\u001B[43m,\u001B[49m\u001B[43m \u001B[49m\u001B[43minclude\u001B[49m\u001B[43m)\u001B[49m\n\u001B[1;32m    144\u001B[0m logger\u001B[38;5;241m.\u001B[39minfo(\u001B[38;5;124m'\u001B[39m\u001B[38;5;124mCreating raw.info structure...\u001B[39m\u001B[38;5;124m'\u001B[39m)\n\u001B[1;32m    146\u001B[0m _validate_type(units, (\u001B[38;5;28mstr\u001B[39m, \u001B[38;5;28;01mNone\u001B[39;00m, \u001B[38;5;28mdict\u001B[39m), \u001B[38;5;124m'\u001B[39m\u001B[38;5;124munits\u001B[39m\u001B[38;5;124m'\u001B[39m)\n",
      "File \u001B[0;32m~/opt/anaconda3/envs/experimentationConda/lib/python3.8/site-packages/mne/io/edf/edf.py:430\u001B[0m, in \u001B[0;36m_get_info\u001B[0;34m(fname, stim_channel, eog, misc, exclude, infer_types, preload, include)\u001B[0m\n\u001B[1;32m    427\u001B[0m eog \u001B[38;5;241m=\u001B[39m eog \u001B[38;5;28;01mif\u001B[39;00m eog \u001B[38;5;129;01mis\u001B[39;00m \u001B[38;5;129;01mnot\u001B[39;00m \u001B[38;5;28;01mNone\u001B[39;00m \u001B[38;5;28;01melse\u001B[39;00m []\n\u001B[1;32m    428\u001B[0m misc \u001B[38;5;241m=\u001B[39m misc \u001B[38;5;28;01mif\u001B[39;00m misc \u001B[38;5;129;01mis\u001B[39;00m \u001B[38;5;129;01mnot\u001B[39;00m \u001B[38;5;28;01mNone\u001B[39;00m \u001B[38;5;28;01melse\u001B[39;00m []\n\u001B[0;32m--> 430\u001B[0m edf_info, orig_units \u001B[38;5;241m=\u001B[39m \u001B[43m_read_header\u001B[49m\u001B[43m(\u001B[49m\u001B[43mfname\u001B[49m\u001B[43m,\u001B[49m\u001B[43m \u001B[49m\u001B[43mexclude\u001B[49m\u001B[43m,\u001B[49m\u001B[43m \u001B[49m\u001B[43minfer_types\u001B[49m\u001B[43m,\u001B[49m\u001B[43m \u001B[49m\u001B[43minclude\u001B[49m\u001B[43m)\u001B[49m\n\u001B[1;32m    432\u001B[0m \u001B[38;5;66;03m# XXX: `tal_ch_names` to pass to `_check_stim_channel` should be computed\u001B[39;00m\n\u001B[1;32m    433\u001B[0m \u001B[38;5;66;03m#      from `edf_info['ch_names']` and `edf_info['tal_idx']` but 'tal_idx'\u001B[39;00m\n\u001B[1;32m    434\u001B[0m \u001B[38;5;66;03m#      contains stim channels that are not TAL.\u001B[39;00m\n\u001B[1;32m    435\u001B[0m stim_channel_idxs, _ \u001B[38;5;241m=\u001B[39m _check_stim_channel(\n\u001B[1;32m    436\u001B[0m     stim_channel, edf_info[\u001B[38;5;124m'\u001B[39m\u001B[38;5;124mch_names\u001B[39m\u001B[38;5;124m'\u001B[39m])\n",
      "File \u001B[0;32m~/opt/anaconda3/envs/experimentationConda/lib/python3.8/site-packages/mne/io/edf/edf.py:416\u001B[0m, in \u001B[0;36m_read_header\u001B[0;34m(fname, exclude, infer_types, include)\u001B[0m\n\u001B[1;32m    414\u001B[0m logger\u001B[38;5;241m.\u001B[39minfo(\u001B[38;5;124m'\u001B[39m\u001B[38;5;132;01m%s\u001B[39;00m\u001B[38;5;124m file detected\u001B[39m\u001B[38;5;124m'\u001B[39m \u001B[38;5;241m%\u001B[39m ext\u001B[38;5;241m.\u001B[39mupper())\n\u001B[1;32m    415\u001B[0m \u001B[38;5;28;01mif\u001B[39;00m ext \u001B[38;5;129;01min\u001B[39;00m (\u001B[38;5;124m'\u001B[39m\u001B[38;5;124mbdf\u001B[39m\u001B[38;5;124m'\u001B[39m, \u001B[38;5;124m'\u001B[39m\u001B[38;5;124medf\u001B[39m\u001B[38;5;124m'\u001B[39m):\n\u001B[0;32m--> 416\u001B[0m     \u001B[38;5;28;01mreturn\u001B[39;00m \u001B[43m_read_edf_header\u001B[49m\u001B[43m(\u001B[49m\u001B[43mfname\u001B[49m\u001B[43m,\u001B[49m\u001B[43m \u001B[49m\u001B[43mexclude\u001B[49m\u001B[43m,\u001B[49m\u001B[43m \u001B[49m\u001B[43minfer_types\u001B[49m\u001B[43m,\u001B[49m\u001B[43m \u001B[49m\u001B[43minclude\u001B[49m\u001B[43m)\u001B[49m\n\u001B[1;32m    417\u001B[0m \u001B[38;5;28;01melif\u001B[39;00m ext \u001B[38;5;241m==\u001B[39m \u001B[38;5;124m'\u001B[39m\u001B[38;5;124mgdf\u001B[39m\u001B[38;5;124m'\u001B[39m:\n\u001B[1;32m    418\u001B[0m     \u001B[38;5;28;01mreturn\u001B[39;00m _read_gdf_header(fname, exclude, include), \u001B[38;5;28;01mNone\u001B[39;00m\n",
      "File \u001B[0;32m~/opt/anaconda3/envs/experimentationConda/lib/python3.8/site-packages/mne/io/edf/edf.py:638\u001B[0m, in \u001B[0;36m_read_edf_header\u001B[0;34m(fname, exclude, infer_types, include)\u001B[0m\n\u001B[1;32m    635\u001B[0m \u001B[38;5;124;03m\"\"\"Read header information from EDF+ or BDF file.\"\"\"\u001B[39;00m\n\u001B[1;32m    636\u001B[0m edf_info \u001B[38;5;241m=\u001B[39m {\u001B[38;5;124m'\u001B[39m\u001B[38;5;124mevents\u001B[39m\u001B[38;5;124m'\u001B[39m: []}\n\u001B[0;32m--> 638\u001B[0m \u001B[38;5;28;01mwith\u001B[39;00m \u001B[38;5;28;43mopen\u001B[39;49m\u001B[43m(\u001B[49m\u001B[43mfname\u001B[49m\u001B[43m,\u001B[49m\u001B[43m \u001B[49m\u001B[38;5;124;43m'\u001B[39;49m\u001B[38;5;124;43mrb\u001B[39;49m\u001B[38;5;124;43m'\u001B[39;49m\u001B[43m)\u001B[49m \u001B[38;5;28;01mas\u001B[39;00m fid:\n\u001B[1;32m    640\u001B[0m     fid\u001B[38;5;241m.\u001B[39mread(\u001B[38;5;241m8\u001B[39m)  \u001B[38;5;66;03m# version (unused here)\u001B[39;00m\n\u001B[1;32m    642\u001B[0m     \u001B[38;5;66;03m# patient ID\u001B[39;00m\n",
      "\u001B[0;31mFileNotFoundError\u001B[0m: [Errno 2] No such file or directory: '/Users/sebouithol/DataspellProjects/Experimentation2DataAnalysis/Experimentation2/Flanker_EEG_52_12052022.bdf'"
     ]
    }
   ],
   "source": [
    "filename = \"Flanker_EEG_52_12052022.bdf\"\n",
    "\n",
    "raw_eeg = mne.io.read_raw_bdf(filename, preload=True)"
   ],
   "metadata": {
    "collapsed": false,
    "ExecuteTime": {
     "start_time": "2023-06-08T21:49:07.655498Z",
     "end_time": "2023-06-08T21:49:09.412923Z"
    }
   }
  },
  {
   "cell_type": "markdown",
   "source": [
    "We have managed to import the eeg data in python. At this point we may want to check what kind of data we have imported, so we use the command _info_. Python is an object-oriented programming language, so we can use our variable name, raw_eeg, and add .info to it."
   ],
   "metadata": {
    "collapsed": false
   }
  },
  {
   "cell_type": "code",
   "execution_count": null,
   "outputs": [],
   "source": [
    "raw_eeg.info"
   ],
   "metadata": {
    "collapsed": false,
    "ExecuteTime": {
     "start_time": "2023-06-08T21:49:22.273063Z",
     "end_time": "2023-06-08T21:49:22.335673Z"
    }
   }
  },
  {
   "cell_type": "markdown",
   "source": [
    "The info displayed above is what is stored in the header of the file. You can see, for instance, that 72 electrodes have been used (twice the number that we've used in the data acquisition practical); That the recording took almost an hour, and that the analogue signal was sampled with a 512Hz frequency.\n",
    "The data file itself is little more than the measured potential of a number of electrodes sampled at given frequency, stored as a very large 2-dimensional matrix. The size if the matrix is the number of channels for one dimension, and the sampling frequency timed the duration of the recording in seconds.\n",
    "\n",
    "To make sense of this matrix, we will also have to specify what the locations of each of the electrodes is. Luckily we do not have to do this by hand. MNE has dictionaries (or rather atlases) of standard systems. Ours is called _biosemi64_: BioSemi is the brand of the EEG setup; 64 denotes the number of channels. If we use this atlas, the location of each of the electrodes is provided. Additionally, we will specify that EXG1 through EXG6 are not used for recording the eeg signal, but were additional electrodes used for reference and tracking eye movements (eog channels). We will drop EXG7 and EXG8, as they were not used during the recording."
   ],
   "metadata": {
    "collapsed": false
   }
  },
  {
   "cell_type": "code",
   "execution_count": null,
   "outputs": [],
   "source": [
    "biosemi_montage = mne.channels.make_standard_montage(\"biosemi64\")\n",
    "raw_eeg.set_montage(biosemi_montage, on_missing='ignore')\n",
    "raw_eeg.set_channel_types(\n",
    "    {'EXG1': 'eog', 'EXG2': 'eog', 'EXG3': 'eog', 'EXG4': 'eog', 'EXG5': 'eog', 'EXG6': 'eog'})\n",
    "raw_eeg.drop_channels(['EXG7', 'EXG8'])  # Unused channels"
   ],
   "metadata": {
    "collapsed": false,
    "ExecuteTime": {
     "start_time": "2023-06-08T21:50:18.978033Z",
     "end_time": "2023-06-08T21:50:19.970224Z"
    }
   }
  },
  {
   "cell_type": "markdown",
   "source": [
    "If you want to check the location of the sensors, you can use the plot_sensors command. Do you recognise the naming and location convention?"
   ],
   "metadata": {
    "collapsed": false
   }
  },
  {
   "cell_type": "code",
   "execution_count": null,
   "outputs": [],
   "source": [
    "raw_eeg.plot_sensors(show_names=True)\n",
    "#fig = raw.plot_sensors(\"3d\")"
   ],
   "metadata": {
    "collapsed": false,
    "ExecuteTime": {
     "start_time": "2023-06-08T21:51:03.103481Z",
     "end_time": "2023-06-08T21:51:03.586128Z"
    }
   }
  },
  {
   "cell_type": "markdown",
   "source": [
    "We have loaded the data, and specified some of the characteristics. Now it is time to preprocess the data.\n",
    "\n",
    "# Preprocessing\n",
    "EEG preprocessing encompasses multiple steps. Generally, these steps are different in every experiment, as they are dependent on the research question, the recording setup, and the subsequent analysis steps. So there is no one-size-fits-all method. The steps below are common in many analysis pipelines.\n",
    "\n",
    "### Downsampling\n",
    "In the output above we saw all that the signal was sampled with a 512Hz frequency. For our purpose this is a bit too high, which will make files unnecessarily big, and computations slow. So we will _downsample_ the data. This will be done using the resample command. We will have to specify the sfreq for this. Note that we could have recorded this data with a sampling frequency of 250 from the start, which would have saved us the downsampling step. Yet, this latter option would have resulted in data of lesser quality. Do you understand why? Have a look at the command below. Do you understand the syntaxis? What is raw_eeg doing at both sides of the '=' sign?"
   ],
   "metadata": {
    "collapsed": false
   }
  },
  {
   "cell_type": "code",
   "execution_count": null,
   "outputs": [],
   "source": [
    "raw_eeg = raw_eeg.resample(sfreq=250)"
   ],
   "metadata": {
    "collapsed": false,
    "ExecuteTime": {
     "start_time": "2023-06-08T21:54:54.255169Z",
     "end_time": "2023-06-08T21:54:59.404284Z"
    }
   }
  },
  {
   "cell_type": "markdown",
   "source": [
    "If you want to check whether it was successful you can use the .info command again"
   ],
   "metadata": {
    "collapsed": false
   }
  },
  {
   "cell_type": "code",
   "execution_count": null,
   "outputs": [],
   "source": [
    "raw_eeg.info"
   ],
   "metadata": {
    "collapsed": false,
    "ExecuteTime": {
     "start_time": "2023-06-08T21:55:06.257639Z",
     "end_time": "2023-06-08T21:55:06.314160Z"
    }
   }
  },
  {
   "cell_type": "markdown",
   "source": [
    "### Rereferencing\n",
    "You may remember from the lecture that the potential that is recorded at each electrode is not an absolute value, but always a difference between that electrode and another electrode. You may also remember that during the acquisition we have used two electrodes named 'drl' and 'cms' as a reference during recording, and that we placed two electrodes on the mastoids in addition. Since drl and cms were close to the active electrodes, they are not an ideal reference for analysing the data. The mastoids are further away from the active electrodes, and not near the brain, which will make them a superior reference. We will set the average of these two channels as explicit reference for all the other electrodes. Can you explain the procedure? Could we have placed cms and drl directly on the mastoids?\n"
   ],
   "metadata": {
    "collapsed": false
   }
  },
  {
   "cell_type": "code",
   "execution_count": null,
   "outputs": [],
   "source": [
    "raw_eeg.set_eeg_reference(ref_channels=['EXG5', 'EXG6'])  # Take average of mastoids as reference\n"
   ],
   "metadata": {
    "collapsed": false,
    "ExecuteTime": {
     "start_time": "2023-06-08T21:55:31.445801Z",
     "end_time": "2023-06-08T21:55:32.012248Z"
    }
   }
  },
  {
   "cell_type": "markdown",
   "source": [
    "Now let's have a quick inspection of what the raw data looks like."
   ],
   "metadata": {
    "collapsed": false
   }
  },
  {
   "cell_type": "code",
   "execution_count": null,
   "outputs": [],
   "source": [
    "mne.viz.plot_raw(raw_eeg)"
   ],
   "metadata": {
    "collapsed": false,
    "ExecuteTime": {
     "start_time": "2023-06-08T21:55:47.760190Z",
     "end_time": "2023-06-08T21:55:48.410045Z"
    }
   }
  },
  {
   "cell_type": "markdown",
   "source": [
    "Ok, it is clearly data, but it does not very  look pretty. It still contains various types of noise, and at multiple places the recorded value is too small or large to be displayed in the given range. In different steps we will correct these problems."
   ],
   "metadata": {
    "collapsed": false
   }
  },
  {
   "cell_type": "markdown",
   "source": [
    "### Filtering\n",
    "The EEG signal can be constructed as an assembly of sinus waves of different frequencies, phase, and strength (a Fourrier Analysis). Of some of these frequencies, the very low and very high ones, we can be sure that they do not correlate to brain activity. Low frequencies may be attributed to amplifier drift, or sweat. We use a so-called _high-pass_ filter to discard this frequencies High pass means that frequencies higher than a certain threshold can 'pass' the filters; lower frequencies are filtered out.\n",
    "Higher frequencies we filter out using a _low-pass filter_. There is some controversy around the source of high frequencies in the EEG signal. We are certain that line noise (50Hz in Europe) and muscle activation contribute to this frequency range, but there seems to be evidence that higher frequencies can also originate from the brain. So you have to choose the threshold frequency of your low-pass filter wisely, dependent on your research question.\n",
    "\n",
    "Note that the names of the two filters always cause confusion. The value of a low-pass filter is always higher than that of a high-pass filter. Check whether you can explain why.\n",
    "\n",
    "Here we will use a high pass setting of 0.1 Hz. This is relatively conservative filtering (everything slower than 10 second oscillations will be removed), but choose this setting because our independent component analysis will work better this way. We can of course choose to do another filtering step after the ICA. If you try you will see that your data will already look a bit better."
   ],
   "metadata": {
    "collapsed": false
   }
  },
  {
   "cell_type": "code",
   "execution_count": null,
   "outputs": [],
   "source": [
    "low_cut = 0.1\n",
    "high_cut = 30\n",
    "filtered_eeg = raw_eeg.filter(low_cut, high_cut, fir_design='firwin')\n"
   ],
   "metadata": {
    "collapsed": false,
    "ExecuteTime": {
     "start_time": "2023-06-08T21:59:36.652495Z",
     "end_time": "2023-06-08T21:59:38.165350Z"
    }
   }
  },
  {
   "cell_type": "markdown",
   "source": [
    "Let's have a look at what the data looks like now. Use the same plot command as above, but this time plot the new array."
   ],
   "metadata": {
    "collapsed": false
   }
  },
  {
   "cell_type": "code",
   "execution_count": null,
   "outputs": [],
   "source": [
    "mne.viz.plot_raw(filtered_eeg)"
   ],
   "metadata": {
    "collapsed": false,
    "ExecuteTime": {
     "start_time": "2023-06-08T21:59:54.903540Z",
     "end_time": "2023-06-08T21:59:55.603209Z"
    }
   }
  },
  {
   "cell_type": "markdown",
   "source": [
    "This already looks a bit better, but we still need to remove the artifacts that originate from eye movements (blinks and saccades). We will do this using an _Independent Component Analysis_.\n"
   ],
   "metadata": {
    "collapsed": false
   }
  },
  {
   "cell_type": "markdown",
   "source": [
    "\n",
    "\n",
    "#### Independent Component Anlysis\n",
    "To understand an Independent Component Analysis (ICA), think of a number of musicians playing in a room, while being recorded by multiple microphones. Each microphone picks up the sound of all the musical instruments, but, importantly, at different strengths. An ICA is a mathematical procedure to re-construct the sound of each individual instrument based on the signals of each of the microphones (test yourself: what problem does an ICA have to solve?). The number of instruments that can thus be isolated is limited by the number of microphones.\n",
    "Back to EEG data preprocessing: The raw signal is composed of proper brain activation as well as artifacts such as eye-blinks and saccades. What we want to do is identify components that can be related to occular artifacts, and then subtract these components from the raw signal. What would be left is a signal that does not include the contribution of these noise components. Here the number of components that can be estimated is limited by the number of electrodes. Since this data was recorded using 64 channels, we have ample components at our disposal.\n"
   ],
   "metadata": {
    "collapsed": false
   }
  },
  {
   "cell_type": "code",
   "execution_count": null,
   "outputs": [],
   "source": [
    "from mne.preprocessing import ICA\n",
    "method = 'picard'\n",
    "\n",
    "n_components = 20 # select n_components by explained variance of PCA\n",
    "random_state = 23 # Random seed\n",
    "\n",
    "ica = ICA(n_components=n_components, method=method, random_state=random_state)\n",
    "ica.fit(filtered_eeg, reject=None)"
   ],
   "metadata": {
    "collapsed": false,
    "ExecuteTime": {
     "start_time": "2023-06-08T22:02:25.550203Z",
     "end_time": "2023-06-08T22:02:59.297184Z"
    }
   }
  },
  {
   "cell_type": "markdown",
   "source": [
    "Now let us plot these components for a visual inspection. The components are ranked ordinally, the first component explaining the most of the variance in the data, the last component the least. We can plot the contribution of the different components over time, but also the location of the component."
   ],
   "metadata": {
    "collapsed": false
   }
  },
  {
   "cell_type": "code",
   "execution_count": null,
   "outputs": [],
   "source": [
    "ica.plot_components()\n",
    "ica.plot_sources(filtered_eeg)\n"
   ],
   "metadata": {
    "collapsed": false,
    "ExecuteTime": {
     "start_time": "2023-05-31T08:49:46.823184Z",
     "end_time": "2023-05-31T08:49:50.503521Z"
    }
   }
  },
  {
   "cell_type": "markdown",
   "source": [
    "For best results we look at both the components and the sources. Note that the sources graph does not display the electrodes, but the different components. The graph indicates how much of the (in our case filtered eeg) signal is explained by each component. What component correlates with eye blinks, you think? Why? What component could correlate to a bad sensor connection? Why? We will remove it from the data.\n",
    "\n",
    "Fill in the components number in the brackets below. Mind that the first member in an array in python is referred to as 0 (unlike for instance MatLab and R, where the first member is 1). Type in the components between the square brackets, separated by a comma"
   ],
   "metadata": {
    "collapsed": false
   }
  },
  {
   "cell_type": "code",
   "execution_count": null,
   "outputs": [],
   "source": [
    "ica.exclude = []\n",
    "cleaned_eeg = ica.apply(filtered_eeg)\n"
   ],
   "metadata": {
    "collapsed": false,
    "ExecuteTime": {
     "start_time": "2023-06-08T22:05:21.361335Z",
     "end_time": "2023-06-08T22:05:22.192973Z"
    }
   }
  },
  {
   "cell_type": "code",
   "execution_count": null,
   "outputs": [],
   "source": [
    "mne.viz.plot_raw(cleaned_eeg)\n"
   ],
   "metadata": {
    "collapsed": false,
    "ExecuteTime": {
     "start_time": "2023-06-08T22:06:05.065269Z",
     "end_time": "2023-06-08T22:06:05.627453Z"
    }
   }
  },
  {
   "cell_type": "markdown",
   "source": [
    "\n",
    "### Filtering again\n",
    "That looks a whole lot better! Remember that we filtered quite conservatively because of the ICA that we planned to do. We can do another, slightly less conservative round of filtering to get rid of the frequencies between 0.1 and 1 Hz. They are certainly not related to brain activity, so better discarded. These steps and settings can  be changed and even repeated, as we do here, as long as you are transparent about it when publishing the results.\n",
    "\n",
    "So now we run another band pass filter, but this time with the low_cut set to 1, and we plot the results immediately.\n"
   ],
   "metadata": {
    "collapsed": false
   }
  },
  {
   "cell_type": "code",
   "execution_count": null,
   "outputs": [],
   "source": [
    "low_cut = 1\n",
    "high_cut = 30\n",
    "cleaned_eeg = cleaned_eeg.filter(low_cut, high_cut, fir_design='firwin')\n",
    "mne.viz.plot_raw(cleaned_eeg)"
   ],
   "metadata": {
    "collapsed": false,
    "ExecuteTime": {
     "start_time": "2023-06-08T22:06:36.604856Z",
     "end_time": "2023-06-08T22:06:38.344157Z"
    }
   }
  },
  {
   "cell_type": "markdown",
   "source": [
    "This is starting to look like nice usable data! Now it is time to relate it to behavioural events"
   ],
   "metadata": {
    "collapsed": false
   }
  },
  {
   "cell_type": "markdown",
   "source": [
    "### Loading the behavioural data\n",
    "\n",
    "Because MNE is a python toolbox, the possibilities to combine eeg with behavioural data are unlimited. In this case, the behavioural data is stored in a separate text file. I will not explain this step in detail, as it is very specific to the experiment, but have a look at the code, and see whether you understand what is happening. Crucial is that in this task on half of the trials the participant was given an alert on beforehand, and on half of the trials this alert was absent, like with the classical Flankers task."
   ],
   "metadata": {
    "collapsed": false
   }
  },
  {
   "cell_type": "code",
   "execution_count": null,
   "outputs": [],
   "source": [
    "fileNameBehav = \"flankertask_eyetracker_52_202205121431_format.txt\"\n",
    "\n",
    "# Load in behavioral data and make numpy array of trialtype\n",
    "trials = pd.read_csv(fileNameBehav, sep=\",\")\n",
    "trials['RT'].replace('None', np.nan, inplace=True)  # Replace \"none\" answers with \"nan\" for int processing\n",
    "trials['RT'] = pd.to_numeric(trials['RT'], errors='coerce', downcast='integer')\n",
    "\n",
    "trials['condition'] = trials['trialtype'] + ' ' + trials[\n",
    "    'alert']  # Make condition column, with alert and trialtype\n",
    "trials_num = trials[['condition']].to_numpy()\n",
    "\n",
    "# Change coding of trialtype, and reshape to appropriate dimension for later processing\n",
    "trials_num = np.where(trials_num == \"congruent alert\", 1, trials_num)\n",
    "trials_num = np.where(trials_num == \"congruent no_alert\", 2, trials_num)\n",
    "trials_num = np.where(trials_num == \"incongruent alert\", 3, trials_num)\n",
    "trials_num = np.where(trials_num == \"incongruent no_alert\", 4, trials_num)\n",
    "trials_num = np.where(trials_num == \"catch alert\", 5, trials_num)\n",
    "trials_num = trials_num.reshape(720)\n",
    "\n",
    "# Transfer the stimulus EEG triggers to an MNE event file\n",
    "events = mne.find_events(raw_eeg, uint_cast=True, consecutive=False)\n",
    "\n",
    "# Delete all markers except for \"alert_onset\" (34) --> we will use that to orient ourselves\n",
    "# Note that there were also \"alert_onset\" triggers in no_alert trials, these were just silent\n",
    "events_trials = mne.pick_events(events, exclude=[4, 8, 16, 33, 35, 36, 253])\n",
    "\n",
    "# Merge trials_num and events_trials: replace third column np array with trials_num that contain trial condition\n",
    "events_trials[:, 2] = trials_num\n",
    "\n",
    "# alert-centered to flanker centered (+500)\n",
    "events_trials[:, 0] = events_trials[:, 0] + (500 * (raw_eeg.info['sfreq'] / 1000))\n",
    "# Dictionary of numbers\n",
    "event_dict = {\"congruent alert\": 1, \"congruent no_alert\": 2,\n",
    "              \"incongruent alert\": 3, \"incongruent no_alert\": 4,\n",
    "              \"catch alert\": 5}"
   ],
   "metadata": {
    "collapsed": false,
    "ExecuteTime": {
     "start_time": "2023-06-08T22:08:01.077531Z",
     "end_time": "2023-06-08T22:08:01.155939Z"
    }
   }
  },
  {
   "cell_type": "markdown",
   "source": [],
   "metadata": {
    "collapsed": false
   }
  },
  {
   "cell_type": "markdown",
   "source": [
    "The behavioural data tells us what event occured at what time. We can use it to cut the continuous signal into chunks of data that are linked to one of the experimental condition. We call these chunks _epochs_. We use the behavioural data that we have loaded above to define the epochs. We specify how much time before, and how much time after the event we want to include into our epoch.\n"
   ],
   "metadata": {
    "collapsed": false
   }
  },
  {
   "cell_type": "markdown",
   "source": [],
   "metadata": {
    "collapsed": false
   }
  },
  {
   "cell_type": "code",
   "execution_count": null,
   "outputs": [],
   "source": [
    "tmin=-0.6\n",
    "tmax = 0.7  # epoch from 0.6s before flanker onset to 0.7s after it\n",
    "\n",
    "epochs = mne.Epochs(cleaned_eeg, events_trials, event_dict, tmin, tmax, baseline=None,\n",
    "                    metadata=trials, preload=True)"
   ],
   "metadata": {
    "collapsed": false,
    "ExecuteTime": {
     "start_time": "2023-06-08T22:09:40.462697Z",
     "end_time": "2023-06-08T22:09:40.686225Z"
    }
   }
  },
  {
   "cell_type": "markdown",
   "source": [
    "We can now plot the epochs using the epochs.plot command (mind the capital E here!)"
   ],
   "metadata": {
    "collapsed": false
   }
  },
  {
   "cell_type": "code",
   "execution_count": null,
   "outputs": [],
   "source": [
    "epochs.plot(events=events)\n",
    "#mne.Epochs.plot(epochs)"
   ],
   "metadata": {
    "collapsed": false,
    "ExecuteTime": {
     "start_time": "2023-06-07T16:10:14.512486Z",
     "end_time": "2023-06-07T16:10:23.803547Z"
    }
   }
  },
  {
   "cell_type": "markdown",
   "source": [
    "Now it is time to make averages of all epochs belonging to one condition."
   ],
   "metadata": {
    "collapsed": false
   }
  },
  {
   "cell_type": "code",
   "execution_count": null,
   "outputs": [],
   "source": [
    "congNoAl = epochs[\"congruent no_alert\"].average()\n",
    "incongNoAl = epochs[\"incongruent no_alert\"].average()\n",
    "congAl = epochs[\"congruent alert\"].average()\n",
    "incongAl = epochs[\"incongruent alert\"].average()\n"
   ],
   "metadata": {
    "collapsed": false,
    "ExecuteTime": {
     "start_time": "2023-06-01T11:12:59.629437Z",
     "end_time": "2023-06-01T11:12:59.764265Z"
    }
   }
  },
  {
   "cell_type": "markdown",
   "source": [
    "and again, we can plot them:"
   ],
   "metadata": {
    "collapsed": false
   }
  },
  {
   "cell_type": "code",
   "execution_count": null,
   "outputs": [],
   "source": [
    "congNoAl.plot()\n",
    "\n"
   ],
   "metadata": {
    "collapsed": false,
    "ExecuteTime": {
     "start_time": "2023-06-01T10:56:00.012125Z",
     "end_time": "2023-06-01T10:56:00.464235Z"
    }
   }
  },
  {
   "cell_type": "markdown",
   "source": [
    "Look at the plots carefully. What is shown is the ERP for every electrode overlayed on top of each other. Two observations may need explication. 1) The ERP is visible in every electrode, especially the positive peak at 400ms. This is inherent to EEG data and its poor spatial resolution. If we want to do source localisation we will have to use the difference between the ERP peaks and troughs of the various electrodes. You can see that during the positive peak at around 200ms, the spread over the scalp is quite good, with the greenish tints (frontal electrodes) are more positive thah the blue/purpel electrodes (what does that mean?). 2) The ERP components are much larger than the noise before 0s. This means that our recording and preprocessing step was succesfull and that the signal-to-noise ration is likely to be good enough to do analyses."
   ],
   "metadata": {
    "collapsed": false
   }
  },
  {
   "cell_type": "code",
   "execution_count": null,
   "outputs": [],
   "source": [
    "evokeds = dict(congruentAlert=congAl, incongruentAlert=incongAl, congruentNoAlert=congNoAl, incongruentNoAlert=incongNoAl)\n",
    "picks = [\"Cz\"]\n",
    "mne.viz.plot_compare_evokeds(evokeds, picks=picks, combine=\"mean\")"
   ],
   "metadata": {
    "collapsed": false,
    "ExecuteTime": {
     "start_time": "2023-06-01T11:16:15.476335Z",
     "end_time": "2023-06-01T11:16:15.669364Z"
    }
   }
  },
  {
   "cell_type": "markdown",
   "source": [
    "We can see that the difference between alert and no alert conditions is big at around 300ms before stimulus onset, but virtually absent in the peaks +400ms. In this peak we can see a difference between the congruent and incongruent conditions, irrespective of the alert."
   ],
   "metadata": {
    "collapsed": false
   }
  },
  {
   "cell_type": "markdown",
   "source": [
    "The Tutorial ends here. If you want you can play with the settings of the commands above, or add new commands below. I started a time-frequency analysis below, but it is not yet the way I want it to be. You can play with it and see what it does. Alternatively, you can add your own commands that you looked up at the MNE website."
   ],
   "metadata": {
    "collapsed": false
   }
  },
  {
   "cell_type": "code",
   "execution_count": null,
   "outputs": [],
   "source": [],
   "metadata": {
    "collapsed": false
   }
  },
  {
   "cell_type": "code",
   "execution_count": null,
   "outputs": [],
   "source": [],
   "metadata": {
    "collapsed": false
   }
  },
  {
   "cell_type": "code",
   "execution_count": null,
   "outputs": [],
   "source": [
    "raw_eeg.compute_psd(fmax=50).plot"
   ],
   "metadata": {
    "collapsed": false,
    "ExecuteTime": {
     "start_time": "2023-06-08T22:17:39.142962Z",
     "end_time": "2023-06-08T22:17:40.067407Z"
    }
   }
  },
  {
   "cell_type": "code",
   "execution_count": null,
   "outputs": [],
   "source": [
    "raw_eeg.compute_psd().plot()"
   ],
   "metadata": {
    "collapsed": false,
    "ExecuteTime": {
     "start_time": "2023-06-08T22:17:45.036187Z",
     "end_time": "2023-06-08T22:17:46.036785Z"
    }
   }
  },
  {
   "cell_type": "code",
   "execution_count": null,
   "outputs": [],
   "source": [
    "frequencies = np.arange(5, 30, 2)\n",
    "power, itc = mne.time_frequency.tfr_morlet(epochs, n_cycles=2, return_itc=True,\n",
    "                                           freqs=frequencies, decim=3, average=True)"
   ],
   "metadata": {
    "collapsed": false,
    "ExecuteTime": {
     "start_time": "2023-06-08T22:18:04.269446Z",
     "end_time": "2023-06-08T22:18:23.652769Z"
    }
   }
  },
  {
   "cell_type": "code",
   "execution_count": null,
   "outputs": [],
   "source": [
    "power.plot()"
   ],
   "metadata": {
    "collapsed": false,
    "ExecuteTime": {
     "start_time": "2023-06-08T22:18:23.653324Z",
     "end_time": "2023-06-08T22:18:31.925722Z"
    }
   }
  }
 ],
 "metadata": {
  "kernelspec": {
   "display_name": "Python 3 (ipykernel)",
   "language": "python",
   "name": "python3"
  },
  "language_info": {
   "codemirror_mode": {
    "name": "ipython",
    "version": 3
   },
   "file_extension": ".py",
   "mimetype": "text/x-python",
   "name": "python",
   "nbconvert_exporter": "python",
   "pygments_lexer": "ipython3",
   "version": "3.9.12"
  }
 },
 "nbformat": 4,
 "nbformat_minor": 1
}
